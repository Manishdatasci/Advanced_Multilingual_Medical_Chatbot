{
 "cells": [
  {
   "cell_type": "code",
   "execution_count": null,
   "id": "6550f4b0-bc92-4cac-9fd6-804971b02c0b",
   "metadata": {},
   "outputs": [
    {
     "data": {
      "application/vnd.jupyter.widget-view+json": {
       "model_id": "80ddc0cac7a64cb99f485775fbe8f855",
       "version_major": 2,
       "version_minor": 0
      },
      "text/plain": [
       "Batches:   0%|          | 0/91 [00:00<?, ?it/s]"
      ]
     },
     "metadata": {},
     "output_type": "display_data"
    }
   ],
   "source": [
    "# Importing Libraries\n",
    "import json\n",
    "import pickle\n",
    "import numpy as np\n",
    "import pandas as pd\n",
    "from sklearn.model_selection import train_test_split\n",
    "from sklearn.linear_model import LogisticRegression\n",
    "from sklearn.metrics import accuracy_score, precision_score, recall_score, confusion_matrix, classification_report\n",
    "from sentence_transformers import SentenceTransformer\n",
    "\n",
    "# Loading Dataset\n",
    "with open(\"fixed_qa_dataset.json\", \"r\", encoding=\"utf-8\") as f:\n",
    "    data = json.load(f)\n",
    "\n",
    "df = pd.DataFrame(data)\n",
    "\n",
    "# Filtering out answers with only 1 example (to avoid training issues)\n",
    "answer_counts = df[\"answer\"].value_counts()\n",
    "valid_answers = answer_counts[answer_counts > 1].index\n",
    "df = df[df[\"answer\"].isin(valid_answers)].reset_index(drop=True)\n",
    "\n",
    "if len(df) < 2:\n",
    "    raise ValueError(\" Not enough data after filtering low-frequency answers.\")\n",
    "\n",
    "# Encoding Questions using SentenceTransformer\n",
    "model = SentenceTransformer(\"all-MiniLM-L6-v2\")\n",
    "X = model.encode(df[\"question\"].tolist(), show_progress_bar=True)\n",
    "y = df[\"answer\"].astype(\"category\").cat.codes  # Convert text labels to numbers\n",
    "\n",
    "# for Train-Test Split (Stratify if possible)\n",
    "stratify = y if len(np.unique(y)) > 1 else None\n",
    "\n",
    "X_train, X_test, y_train, y_test = train_test_split(\n",
    "    X, y, test_size=0.2, stratify=stratify, random_state=42\n",
    ")\n",
    "\n",
    "#for Training Classifier\n",
    "clf = LogisticRegression(\n",
    "    C=10, max_iter=2000, solver=\"lbfgs\", multi_class=\"multinomial\"\n",
    ")\n",
    "clf.fit(X_train, y_train)\n",
    "\n",
    "#now Evaluate Model\n",
    "y_pred = clf.predict(X_test)\n",
    "accuracy = accuracy_score(y_test, y_pred)\n",
    "precision = precision_score(y_test, y_pred, average=\"macro\", zero_division=0)\n",
    "recall = recall_score(y_test, y_pred, average=\"macro\", zero_division=0)\n",
    "conf_matrix = confusion_matrix(y_test, y_pred)\n",
    "\n",
    "print(\" Accuracy:\", round(accuracy * 100, 2), \"%\")\n",
    "print(\"\\n Classification Report:\")\n",
    "print(classification_report(y_test, y_pred, zero_division=0))\n",
    "\n",
    "print(\"\\n Confusion Matrix:\")\n",
    "print(conf_matrix)\n",
    "\n",
    "# now Save Trained Classifier\n",
    "with open(\"trained_classifier.pkl\", \"wb\") as f:\n",
    "    pickle.dump(clf, f)\n",
    "\n",
    "# Now Save Embeddings + Data for Chatbot\n",
    "with open(\"embedded_qa_dataset.pkl\", \"wb\") as f:\n",
    "    pickle.dump({\n",
    "        \"data\": df.to_dict(orient=\"records\"),\n",
    "        \"embeddings\": X\n",
    "    }, f)\n"
   ]
  },
  {
   "cell_type": "code",
   "execution_count": null,
   "id": "aaa8ce10-ef8b-4b4f-a4ee-48761856e195",
   "metadata": {},
   "outputs": [],
   "source": []
  }
 ],
 "metadata": {
  "kernelspec": {
   "display_name": "Python (multilingual_bot_env)",
   "language": "python",
   "name": "multilingual_bot_env"
  },
  "language_info": {
   "codemirror_mode": {
    "name": "ipython",
    "version": 3
   },
   "file_extension": ".py",
   "mimetype": "text/x-python",
   "name": "python",
   "nbconvert_exporter": "python",
   "pygments_lexer": "ipython3",
   "version": "3.10.18"
  }
 },
 "nbformat": 4,
 "nbformat_minor": 5
}
